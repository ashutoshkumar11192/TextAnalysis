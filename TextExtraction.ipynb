

import PyPDF2 as pp
PDFfile = open("Rachel Sumekh - Non Profit -Swipeout Hunger.pdf","rb")
pdfread =pp.PdfFileReader(PDFfile)

text = ""
i = 0
while i < pdfread.getNumPages():
    pageinfo = pdfread.getPage(i)
    text = text + " " + pageinfo.extractText()
    i = i + 1
    
text
